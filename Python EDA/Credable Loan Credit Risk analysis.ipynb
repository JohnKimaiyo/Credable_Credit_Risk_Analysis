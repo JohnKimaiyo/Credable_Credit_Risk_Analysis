{
 "cells": [
  {
   "cell_type": "markdown",
   "id": "ed7064f6-100a-44df-ad3a-23db02b8d795",
   "metadata": {},
   "source": [
    "## Context:\r\n",
    "Our company aims to expand its reach within the unbanked and under-banked market by acquiring a strategic lending business. This target company has provided data on their loan disbursements and repayments. Your task is to conduct a comprehensive analysis of this data to evaluate the product's potential and provide actionable recommendations to the leadership team.\r\n",
    "Objectives:\r\n",
    "1.\tIdentify and document the key features of the lending product.\r\n",
    "2.\tUtilize a Business Intelligence (BI) tool to create visualizations that provide insights into the product's performance.\r\n",
    "3.\tDefine key performance metrics and present their trends using time-series visualizations.\r\n",
    "4.\tDevelop a 3-month profit/loss forecast.\r\n",
    "5.\tAnalyze the company's current credit exposure and risk management strategies.\r\n",
    "6.\tRecommend appropriate provisioning and write-off thresholds.\r\n",
    "7.\tPropose portfolio triggers / alerts to mitigate adverse portfolio shifts.\r\n",
    "8.\tRecommend data-driven changes to the product design and features to enhance profitability and manage credit risk.\r\n"
   ]
  },
  {
   "cell_type": "markdown",
   "id": "ed6d4872-2d3b-4978-af5e-e96c2a4bf0ed",
   "metadata": {},
   "source": [
    "## Step 1: Import Libraries and Load the Data: Use pandas to load the Disbursments data from the file."
   ]
  },
  {
   "cell_type": "code",
   "execution_count": 10,
   "id": "3c330211-dafa-4242-8cdf-5d06d754104b",
   "metadata": {},
   "outputs": [
    {
     "data": {
      "text/html": [
       "<div>\n",
       "<style scoped>\n",
       "    .dataframe tbody tr th:only-of-type {\n",
       "        vertical-align: middle;\n",
       "    }\n",
       "\n",
       "    .dataframe tbody tr th {\n",
       "        vertical-align: top;\n",
       "    }\n",
       "\n",
       "    .dataframe thead th {\n",
       "        text-align: right;\n",
       "    }\n",
       "</style>\n",
       "<table border=\"1\" class=\"dataframe\">\n",
       "  <thead>\n",
       "    <tr style=\"text-align: right;\">\n",
       "      <th></th>\n",
       "      <th>date_time</th>\n",
       "      <th>customer_id</th>\n",
       "      <th>amount</th>\n",
       "      <th>rep_month</th>\n",
       "      <th>repayment_type</th>\n",
       "    </tr>\n",
       "  </thead>\n",
       "  <tbody>\n",
       "    <tr>\n",
       "      <th>0</th>\n",
       "      <td>27-JUN-24 07.16.36.000000000 AM</td>\n",
       "      <td>683131338d401fda38410a808797b7706bc3e364d0fe77...</td>\n",
       "      <td>500.65</td>\n",
       "      <td>202406</td>\n",
       "      <td>Automatic</td>\n",
       "    </tr>\n",
       "    <tr>\n",
       "      <th>1</th>\n",
       "      <td>27-JUN-24 05.26.50.000000000 PM</td>\n",
       "      <td>56a41251185bd205961556399289804607ccc660392837...</td>\n",
       "      <td>2833.33</td>\n",
       "      <td>202406</td>\n",
       "      <td>Automatic</td>\n",
       "    </tr>\n",
       "    <tr>\n",
       "      <th>2</th>\n",
       "      <td>27-JUN-24 06.45.40.000000000 PM</td>\n",
       "      <td>000e57e83f161e4ba6458b3e32c00815405c5a005e652b...</td>\n",
       "      <td>143.98</td>\n",
       "      <td>202406</td>\n",
       "      <td>Automatic</td>\n",
       "    </tr>\n",
       "    <tr>\n",
       "      <th>3</th>\n",
       "      <td>27-JUN-24 01.24.57.000000000 PM</td>\n",
       "      <td>f3606d5ac9a89e0251a60d7183a09bc742eba2e36882af...</td>\n",
       "      <td>1000.00</td>\n",
       "      <td>202406</td>\n",
       "      <td>Automatic</td>\n",
       "    </tr>\n",
       "    <tr>\n",
       "      <th>4</th>\n",
       "      <td>27-JUN-24 01.31.44.000000000 PM</td>\n",
       "      <td>f3606d5ac9a89e0251a60d7183a09bc742eba2e36882af...</td>\n",
       "      <td>801.00</td>\n",
       "      <td>202406</td>\n",
       "      <td>Manual</td>\n",
       "    </tr>\n",
       "    <tr>\n",
       "      <th>5</th>\n",
       "      <td>27-JUN-24 03.26.42.000000000 PM</td>\n",
       "      <td>ea3d553b28fefa3db6d878f7965bed756cadcc75eab9a4...</td>\n",
       "      <td>0.32</td>\n",
       "      <td>202406</td>\n",
       "      <td>Automatic</td>\n",
       "    </tr>\n",
       "    <tr>\n",
       "      <th>6</th>\n",
       "      <td>27-JUN-24 01.20.04.000000000 PM</td>\n",
       "      <td>9612a7e1860338e51c8c17b4c6277b6fcff6673b365b8a...</td>\n",
       "      <td>1400.00</td>\n",
       "      <td>202406</td>\n",
       "      <td>Automatic</td>\n",
       "    </tr>\n",
       "    <tr>\n",
       "      <th>7</th>\n",
       "      <td>27-JUN-24 09.05.37.000000000 AM</td>\n",
       "      <td>8a24dbc61bfc131ce97747b67a8cf95dc864b1da40a271...</td>\n",
       "      <td>99.00</td>\n",
       "      <td>202406</td>\n",
       "      <td>Automatic</td>\n",
       "    </tr>\n",
       "    <tr>\n",
       "      <th>8</th>\n",
       "      <td>04-JUN-24 08.01.56.000000000 AM</td>\n",
       "      <td>a8de7aea5bc9ad59ce83e55cae10964da3b11e93482292...</td>\n",
       "      <td>470.00</td>\n",
       "      <td>202406</td>\n",
       "      <td>Manual</td>\n",
       "    </tr>\n",
       "    <tr>\n",
       "      <th>9</th>\n",
       "      <td>04-JUN-24 07.55.36.000000000 PM</td>\n",
       "      <td>012b01b0a23e9edc57cc2b7632d0973ab6eaff6ad4e9e8...</td>\n",
       "      <td>1309.95</td>\n",
       "      <td>202406</td>\n",
       "      <td>Manual</td>\n",
       "    </tr>\n",
       "  </tbody>\n",
       "</table>\n",
       "</div>"
      ],
      "text/plain": [
       "                         date_time  \\\n",
       "0  27-JUN-24 07.16.36.000000000 AM   \n",
       "1  27-JUN-24 05.26.50.000000000 PM   \n",
       "2  27-JUN-24 06.45.40.000000000 PM   \n",
       "3  27-JUN-24 01.24.57.000000000 PM   \n",
       "4  27-JUN-24 01.31.44.000000000 PM   \n",
       "5  27-JUN-24 03.26.42.000000000 PM   \n",
       "6  27-JUN-24 01.20.04.000000000 PM   \n",
       "7  27-JUN-24 09.05.37.000000000 AM   \n",
       "8  04-JUN-24 08.01.56.000000000 AM   \n",
       "9  04-JUN-24 07.55.36.000000000 PM   \n",
       "\n",
       "                                         customer_id   amount  rep_month  \\\n",
       "0  683131338d401fda38410a808797b7706bc3e364d0fe77...   500.65     202406   \n",
       "1  56a41251185bd205961556399289804607ccc660392837...  2833.33     202406   \n",
       "2  000e57e83f161e4ba6458b3e32c00815405c5a005e652b...   143.98     202406   \n",
       "3  f3606d5ac9a89e0251a60d7183a09bc742eba2e36882af...  1000.00     202406   \n",
       "4  f3606d5ac9a89e0251a60d7183a09bc742eba2e36882af...   801.00     202406   \n",
       "5  ea3d553b28fefa3db6d878f7965bed756cadcc75eab9a4...     0.32     202406   \n",
       "6  9612a7e1860338e51c8c17b4c6277b6fcff6673b365b8a...  1400.00     202406   \n",
       "7  8a24dbc61bfc131ce97747b67a8cf95dc864b1da40a271...    99.00     202406   \n",
       "8  a8de7aea5bc9ad59ce83e55cae10964da3b11e93482292...   470.00     202406   \n",
       "9  012b01b0a23e9edc57cc2b7632d0973ab6eaff6ad4e9e8...  1309.95     202406   \n",
       "\n",
       "  repayment_type  \n",
       "0      Automatic  \n",
       "1      Automatic  \n",
       "2      Automatic  \n",
       "3      Automatic  \n",
       "4         Manual  \n",
       "5      Automatic  \n",
       "6      Automatic  \n",
       "7      Automatic  \n",
       "8         Manual  \n",
       "9         Manual  "
      ]
     },
     "execution_count": 10,
     "metadata": {},
     "output_type": "execute_result"
    }
   ],
   "source": [
    "import pandas as pd\n",
    "import numpy as np\n",
    "from datetime import datetime\n",
    "\n",
    "credable_disbursments_df = pd.read_csv(r\"C:\\Users\\jki\\Desktop\\Data Scence Projects\\Case Study Credebale  Loan Customer Data\\SQL  EDA\\Disbursments datasets.csv\")\n",
    "credable_disbursments_df.head(10)\n",
    "credable_repayments_df= pd.read_csv(r\"C:\\Users\\jki\\Desktop\\Data Scence Projects\\Case Study Credebale  Loan Customer Data\\SQL  EDA\\Repayments datasets.csv\")\n",
    "\n",
    "credable_repayments_df.head(10)"
   ]
  },
  {
   "cell_type": "markdown",
   "id": "fe2c2aac-a267-47f4-b6f6-f708ad6b2215",
   "metadata": {},
   "source": [
    "## Step 2 : Data Preprocessing: Disbursments dataset"
   ]
  },
  {
   "cell_type": "markdown",
   "id": "c22790f6-dc8d-4e92-85bf-bfb15e2b6310",
   "metadata": {},
   "source": [
    "Clean and preprocess the data, such as converting date columns to datetime objects and handling missing values."
   ]
  },
  {
   "cell_type": "code",
   "execution_count": 3,
   "id": "718cd367-700c-4dbd-b7ea-0e363fb3fd9c",
   "metadata": {},
   "outputs": [
    {
     "name": "stdout",
     "output_type": "stream",
     "text": [
      "<class 'pandas.core.frame.DataFrame'>\n",
      "RangeIndex: 1000 entries, 0 to 999\n",
      "Data columns (total 6 columns):\n",
      " #   Column       Non-Null Count  Dtype  \n",
      "---  ------       --------------  -----  \n",
      " 0   customer_id  1000 non-null   object \n",
      " 1   disb_date    1000 non-null   object \n",
      " 2   tenure       1000 non-null   object \n",
      " 3   account_num  1000 non-null   object \n",
      " 4   loan_amount  1000 non-null   int64  \n",
      " 5   loan_fee     1000 non-null   float64\n",
      "dtypes: float64(1), int64(1), object(4)\n",
      "memory usage: 47.0+ KB\n"
     ]
    }
   ],
   "source": [
    "credable_disbursments_df.info()"
   ]
  },
  {
   "cell_type": "code",
   "execution_count": 5,
   "id": "9e7f2ef3-24f2-4e08-a707-f2fe11038658",
   "metadata": {},
   "outputs": [
    {
     "name": "stdout",
     "output_type": "stream",
     "text": [
      "<class 'pandas.core.frame.DataFrame'>\n",
      "RangeIndex: 1000 entries, 0 to 999\n",
      "Data columns (total 6 columns):\n",
      " #   Column       Non-Null Count  Dtype         \n",
      "---  ------       --------------  -----         \n",
      " 0   customer_id  1000 non-null   object        \n",
      " 1   disb_date    1000 non-null   datetime64[ns]\n",
      " 2   tenure       1000 non-null   object        \n",
      " 3   account_num  1000 non-null   object        \n",
      " 4   loan_amount  1000 non-null   int64         \n",
      " 5   loan_fee     1000 non-null   float64       \n",
      "dtypes: datetime64[ns](1), float64(1), int64(1), object(3)\n",
      "memory usage: 47.0+ KB\n"
     ]
    }
   ],
   "source": [
    "# Convert date columns to datetime\n",
    "credable_disbursments_df['disb_date'] = pd.to_datetime(credable_disbursments_df['disb_date'])\n",
    "\n",
    "credable_disbursments_df.info()"
   ]
  },
  {
   "cell_type": "code",
   "execution_count": 6,
   "id": "67a35845-d888-470f-8dac-c64665d6e0b4",
   "metadata": {},
   "outputs": [
    {
     "name": "stdout",
     "output_type": "stream",
     "text": [
      "customer_id    0\n",
      "disb_date      0\n",
      "tenure         0\n",
      "account_num    0\n",
      "loan_amount    0\n",
      "loan_fee       0\n",
      "dtype: int64\n"
     ]
    }
   ],
   "source": [
    "print(credable_disbursments_df.isnull().sum())"
   ]
  },
  {
   "cell_type": "code",
   "execution_count": 7,
   "id": "27ec6525-2360-45ec-bef4-d69a2925188d",
   "metadata": {},
   "outputs": [],
   "source": [
    "# Save the DataFrame to a CSV file\n",
    "credable_disbursments_df.to_csv('credable_disbursments.csv', index=False)"
   ]
  },
  {
   "cell_type": "markdown",
   "id": "f3683023-f7fe-442b-90be-f3e42be06b10",
   "metadata": {},
   "source": [
    "## Step 3 : Data Preprocessing: Repayments dataset"
   ]
  },
  {
   "cell_type": "markdown",
   "id": "99e919ec-cc3d-4b08-b28a-d2fd5d5d715b",
   "metadata": {},
   "source": [
    "Clean and preprocess the data, such as converting date columns to datetime objects and handling missing values."
   ]
  },
  {
   "cell_type": "code",
   "execution_count": 11,
   "id": "515da34c-aded-4f52-afc5-1b7a1dd46c7b",
   "metadata": {},
   "outputs": [
    {
     "data": {
      "text/html": [
       "<div>\n",
       "<style scoped>\n",
       "    .dataframe tbody tr th:only-of-type {\n",
       "        vertical-align: middle;\n",
       "    }\n",
       "\n",
       "    .dataframe tbody tr th {\n",
       "        vertical-align: top;\n",
       "    }\n",
       "\n",
       "    .dataframe thead th {\n",
       "        text-align: right;\n",
       "    }\n",
       "</style>\n",
       "<table border=\"1\" class=\"dataframe\">\n",
       "  <thead>\n",
       "    <tr style=\"text-align: right;\">\n",
       "      <th></th>\n",
       "      <th>date_time</th>\n",
       "      <th>customer_id</th>\n",
       "      <th>amount</th>\n",
       "      <th>rep_month</th>\n",
       "      <th>repayment_type</th>\n",
       "    </tr>\n",
       "  </thead>\n",
       "  <tbody>\n",
       "    <tr>\n",
       "      <th>0</th>\n",
       "      <td>27-JUN-24 07.16.36.000000000 AM</td>\n",
       "      <td>683131338d401fda38410a808797b7706bc3e364d0fe77...</td>\n",
       "      <td>500.65</td>\n",
       "      <td>202406</td>\n",
       "      <td>Automatic</td>\n",
       "    </tr>\n",
       "    <tr>\n",
       "      <th>1</th>\n",
       "      <td>27-JUN-24 05.26.50.000000000 PM</td>\n",
       "      <td>56a41251185bd205961556399289804607ccc660392837...</td>\n",
       "      <td>2833.33</td>\n",
       "      <td>202406</td>\n",
       "      <td>Automatic</td>\n",
       "    </tr>\n",
       "    <tr>\n",
       "      <th>2</th>\n",
       "      <td>27-JUN-24 06.45.40.000000000 PM</td>\n",
       "      <td>000e57e83f161e4ba6458b3e32c00815405c5a005e652b...</td>\n",
       "      <td>143.98</td>\n",
       "      <td>202406</td>\n",
       "      <td>Automatic</td>\n",
       "    </tr>\n",
       "    <tr>\n",
       "      <th>3</th>\n",
       "      <td>27-JUN-24 01.24.57.000000000 PM</td>\n",
       "      <td>f3606d5ac9a89e0251a60d7183a09bc742eba2e36882af...</td>\n",
       "      <td>1000.00</td>\n",
       "      <td>202406</td>\n",
       "      <td>Automatic</td>\n",
       "    </tr>\n",
       "    <tr>\n",
       "      <th>4</th>\n",
       "      <td>27-JUN-24 01.31.44.000000000 PM</td>\n",
       "      <td>f3606d5ac9a89e0251a60d7183a09bc742eba2e36882af...</td>\n",
       "      <td>801.00</td>\n",
       "      <td>202406</td>\n",
       "      <td>Manual</td>\n",
       "    </tr>\n",
       "    <tr>\n",
       "      <th>5</th>\n",
       "      <td>27-JUN-24 03.26.42.000000000 PM</td>\n",
       "      <td>ea3d553b28fefa3db6d878f7965bed756cadcc75eab9a4...</td>\n",
       "      <td>0.32</td>\n",
       "      <td>202406</td>\n",
       "      <td>Automatic</td>\n",
       "    </tr>\n",
       "    <tr>\n",
       "      <th>6</th>\n",
       "      <td>27-JUN-24 01.20.04.000000000 PM</td>\n",
       "      <td>9612a7e1860338e51c8c17b4c6277b6fcff6673b365b8a...</td>\n",
       "      <td>1400.00</td>\n",
       "      <td>202406</td>\n",
       "      <td>Automatic</td>\n",
       "    </tr>\n",
       "    <tr>\n",
       "      <th>7</th>\n",
       "      <td>27-JUN-24 09.05.37.000000000 AM</td>\n",
       "      <td>8a24dbc61bfc131ce97747b67a8cf95dc864b1da40a271...</td>\n",
       "      <td>99.00</td>\n",
       "      <td>202406</td>\n",
       "      <td>Automatic</td>\n",
       "    </tr>\n",
       "    <tr>\n",
       "      <th>8</th>\n",
       "      <td>04-JUN-24 08.01.56.000000000 AM</td>\n",
       "      <td>a8de7aea5bc9ad59ce83e55cae10964da3b11e93482292...</td>\n",
       "      <td>470.00</td>\n",
       "      <td>202406</td>\n",
       "      <td>Manual</td>\n",
       "    </tr>\n",
       "    <tr>\n",
       "      <th>9</th>\n",
       "      <td>04-JUN-24 07.55.36.000000000 PM</td>\n",
       "      <td>012b01b0a23e9edc57cc2b7632d0973ab6eaff6ad4e9e8...</td>\n",
       "      <td>1309.95</td>\n",
       "      <td>202406</td>\n",
       "      <td>Manual</td>\n",
       "    </tr>\n",
       "  </tbody>\n",
       "</table>\n",
       "</div>"
      ],
      "text/plain": [
       "                         date_time  \\\n",
       "0  27-JUN-24 07.16.36.000000000 AM   \n",
       "1  27-JUN-24 05.26.50.000000000 PM   \n",
       "2  27-JUN-24 06.45.40.000000000 PM   \n",
       "3  27-JUN-24 01.24.57.000000000 PM   \n",
       "4  27-JUN-24 01.31.44.000000000 PM   \n",
       "5  27-JUN-24 03.26.42.000000000 PM   \n",
       "6  27-JUN-24 01.20.04.000000000 PM   \n",
       "7  27-JUN-24 09.05.37.000000000 AM   \n",
       "8  04-JUN-24 08.01.56.000000000 AM   \n",
       "9  04-JUN-24 07.55.36.000000000 PM   \n",
       "\n",
       "                                         customer_id   amount  rep_month  \\\n",
       "0  683131338d401fda38410a808797b7706bc3e364d0fe77...   500.65     202406   \n",
       "1  56a41251185bd205961556399289804607ccc660392837...  2833.33     202406   \n",
       "2  000e57e83f161e4ba6458b3e32c00815405c5a005e652b...   143.98     202406   \n",
       "3  f3606d5ac9a89e0251a60d7183a09bc742eba2e36882af...  1000.00     202406   \n",
       "4  f3606d5ac9a89e0251a60d7183a09bc742eba2e36882af...   801.00     202406   \n",
       "5  ea3d553b28fefa3db6d878f7965bed756cadcc75eab9a4...     0.32     202406   \n",
       "6  9612a7e1860338e51c8c17b4c6277b6fcff6673b365b8a...  1400.00     202406   \n",
       "7  8a24dbc61bfc131ce97747b67a8cf95dc864b1da40a271...    99.00     202406   \n",
       "8  a8de7aea5bc9ad59ce83e55cae10964da3b11e93482292...   470.00     202406   \n",
       "9  012b01b0a23e9edc57cc2b7632d0973ab6eaff6ad4e9e8...  1309.95     202406   \n",
       "\n",
       "  repayment_type  \n",
       "0      Automatic  \n",
       "1      Automatic  \n",
       "2      Automatic  \n",
       "3      Automatic  \n",
       "4         Manual  \n",
       "5      Automatic  \n",
       "6      Automatic  \n",
       "7      Automatic  \n",
       "8         Manual  \n",
       "9         Manual  "
      ]
     },
     "execution_count": 11,
     "metadata": {},
     "output_type": "execute_result"
    }
   ],
   "source": [
    "credable_repayments_df.head(10).head(10)"
   ]
  },
  {
   "cell_type": "code",
   "execution_count": 12,
   "id": "95512458-b2a3-421c-8792-2f648eadf435",
   "metadata": {},
   "outputs": [
    {
     "name": "stdout",
     "output_type": "stream",
     "text": [
      "<class 'pandas.core.frame.DataFrame'>\n",
      "RangeIndex: 1000 entries, 0 to 999\n",
      "Data columns (total 5 columns):\n",
      " #   Column          Non-Null Count  Dtype  \n",
      "---  ------          --------------  -----  \n",
      " 0   date_time       1000 non-null   object \n",
      " 1   customer_id     1000 non-null   object \n",
      " 2   amount          1000 non-null   float64\n",
      " 3   rep_month       1000 non-null   int64  \n",
      " 4   repayment_type  1000 non-null   object \n",
      "dtypes: float64(1), int64(1), object(3)\n",
      "memory usage: 39.2+ KB\n"
     ]
    }
   ],
   "source": [
    "credable_repayments_df.info()"
   ]
  },
  {
   "cell_type": "code",
   "execution_count": 16,
   "id": "f9178246-18c7-440b-b189-16a1cbeff56a",
   "metadata": {},
   "outputs": [],
   "source": [
    "# Convert date columns to datetime\n",
    "credable_repayments_df['date_time'] = pd.to_datetime(\n",
    "    credable_repayments_df['date_time'], \n",
    "    format='%d-%b-%y %I.%M.%S.%f %p', \n",
    "    errors='coerce'\n",
    ")"
   ]
  },
  {
   "cell_type": "code",
   "execution_count": 17,
   "id": "6656a7a6-9d3e-4fe2-9585-3e04bc697427",
   "metadata": {},
   "outputs": [
    {
     "name": "stdout",
     "output_type": "stream",
     "text": [
      "<class 'pandas.core.frame.DataFrame'>\n",
      "RangeIndex: 1000 entries, 0 to 999\n",
      "Data columns (total 5 columns):\n",
      " #   Column          Non-Null Count  Dtype         \n",
      "---  ------          --------------  -----         \n",
      " 0   date_time       1000 non-null   datetime64[ns]\n",
      " 1   customer_id     1000 non-null   object        \n",
      " 2   amount          1000 non-null   float64       \n",
      " 3   rep_month       1000 non-null   int64         \n",
      " 4   repayment_type  1000 non-null   object        \n",
      "dtypes: datetime64[ns](1), float64(1), int64(1), object(2)\n",
      "memory usage: 39.2+ KB\n"
     ]
    }
   ],
   "source": [
    "credable_repayments_df.info()"
   ]
  },
  {
   "cell_type": "code",
   "execution_count": 18,
   "id": "a9ef009f-e032-452f-8419-a0f2763522ee",
   "metadata": {},
   "outputs": [],
   "source": [
    "# Save the DataFrame to a CSV file\n",
    "credable_repayments_df.to_csv('credable_repayments.csv', index=False)"
   ]
  },
  {
   "cell_type": "code",
   "execution_count": null,
   "id": "834e39a4-a587-403e-b278-81d4ef25848c",
   "metadata": {},
   "outputs": [],
   "source": []
  }
 ],
 "metadata": {
  "kernelspec": {
   "display_name": "Python 3 (ipykernel)",
   "language": "python",
   "name": "python3"
  },
  "language_info": {
   "codemirror_mode": {
    "name": "ipython",
    "version": 3
   },
   "file_extension": ".py",
   "mimetype": "text/x-python",
   "name": "python",
   "nbconvert_exporter": "python",
   "pygments_lexer": "ipython3",
   "version": "3.11.7"
  }
 },
 "nbformat": 4,
 "nbformat_minor": 5
}
