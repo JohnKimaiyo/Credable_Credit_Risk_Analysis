{
 "cells": [
  {
   "cell_type": "markdown",
   "id": "ed7064f6-100a-44df-ad3a-23db02b8d795",
   "metadata": {},
   "source": [
    "## Context: Strategic Lending Acquisition Analysis\r\n",
    "Our company aims to expand its reach within the unbanked and under-banked market by acquiring a strategic lending business. This target company has provided data on their loan disbursements and repayments. Your task is to conduct a comprehensive analysis of this data to evaluate the product's potential and provide actionable recommendations to the leadership team.\r\n",
    "Objectives:\r\n",
    "1.\tIdentify and document the key features of the lending product.\r\n",
    "2.\tUtilize a Business Intelligence (BI) tool to create visualizations that provide insights into the product's performance.\r\n",
    "3.\tDefine key performance metrics and present their trends using time-series visualizations.\r\n",
    "4.\tDevelop a 3-month profit/loss forecast.\r\n",
    "5.\tAnalyze the company's current credit exposure and risk management strategies.\r\n",
    "6.\tRecommend appropriate provisioning and write-off thresholds.\r\n",
    "7.\tPropose portfolio triggers / alerts to mitigate adverse portfolio shifts.\r\n",
    "8.\tRecommend data-driven changes to the product design and features to enhance profitability and manage credit risk.\r\n"
   ]
  },
  {
   "cell_type": "markdown",
   "id": "ed6d4872-2d3b-4978-af5e-e96c2a4bf0ed",
   "metadata": {},
   "source": [
    "## Step 1: Import Libraries and Load the Data: Use pandas to load the Disbursments data from the file."
   ]
  },
  {
   "cell_type": "code",
   "execution_count": 68,
   "id": "3c330211-dafa-4242-8cdf-5d06d754104b",
   "metadata": {},
   "outputs": [
    {
     "data": {
      "text/html": [
       "<div>\n",
       "<style scoped>\n",
       "    .dataframe tbody tr th:only-of-type {\n",
       "        vertical-align: middle;\n",
       "    }\n",
       "\n",
       "    .dataframe tbody tr th {\n",
       "        vertical-align: top;\n",
       "    }\n",
       "\n",
       "    .dataframe thead th {\n",
       "        text-align: right;\n",
       "    }\n",
       "</style>\n",
       "<table border=\"1\" class=\"dataframe\">\n",
       "  <thead>\n",
       "    <tr style=\"text-align: right;\">\n",
       "      <th></th>\n",
       "      <th>date_time</th>\n",
       "      <th>customer_id</th>\n",
       "      <th>amount</th>\n",
       "      <th>rep_month</th>\n",
       "      <th>repayment_type</th>\n",
       "    </tr>\n",
       "  </thead>\n",
       "  <tbody>\n",
       "    <tr>\n",
       "      <th>0</th>\n",
       "      <td>27-JUN-24 07.16.36.000000000 AM</td>\n",
       "      <td>683131338d401fda38410a808797b7706bc3e364d0fe77...</td>\n",
       "      <td>500.65</td>\n",
       "      <td>202406</td>\n",
       "      <td>Automatic</td>\n",
       "    </tr>\n",
       "    <tr>\n",
       "      <th>1</th>\n",
       "      <td>27-JUN-24 05.26.50.000000000 PM</td>\n",
       "      <td>56a41251185bd205961556399289804607ccc660392837...</td>\n",
       "      <td>2833.33</td>\n",
       "      <td>202406</td>\n",
       "      <td>Automatic</td>\n",
       "    </tr>\n",
       "    <tr>\n",
       "      <th>2</th>\n",
       "      <td>27-JUN-24 06.45.40.000000000 PM</td>\n",
       "      <td>000e57e83f161e4ba6458b3e32c00815405c5a005e652b...</td>\n",
       "      <td>143.98</td>\n",
       "      <td>202406</td>\n",
       "      <td>Automatic</td>\n",
       "    </tr>\n",
       "    <tr>\n",
       "      <th>3</th>\n",
       "      <td>27-JUN-24 01.24.57.000000000 PM</td>\n",
       "      <td>f3606d5ac9a89e0251a60d7183a09bc742eba2e36882af...</td>\n",
       "      <td>1000.00</td>\n",
       "      <td>202406</td>\n",
       "      <td>Automatic</td>\n",
       "    </tr>\n",
       "    <tr>\n",
       "      <th>4</th>\n",
       "      <td>27-JUN-24 01.31.44.000000000 PM</td>\n",
       "      <td>f3606d5ac9a89e0251a60d7183a09bc742eba2e36882af...</td>\n",
       "      <td>801.00</td>\n",
       "      <td>202406</td>\n",
       "      <td>Manual</td>\n",
       "    </tr>\n",
       "    <tr>\n",
       "      <th>5</th>\n",
       "      <td>27-JUN-24 03.26.42.000000000 PM</td>\n",
       "      <td>ea3d553b28fefa3db6d878f7965bed756cadcc75eab9a4...</td>\n",
       "      <td>0.32</td>\n",
       "      <td>202406</td>\n",
       "      <td>Automatic</td>\n",
       "    </tr>\n",
       "    <tr>\n",
       "      <th>6</th>\n",
       "      <td>27-JUN-24 01.20.04.000000000 PM</td>\n",
       "      <td>9612a7e1860338e51c8c17b4c6277b6fcff6673b365b8a...</td>\n",
       "      <td>1400.00</td>\n",
       "      <td>202406</td>\n",
       "      <td>Automatic</td>\n",
       "    </tr>\n",
       "    <tr>\n",
       "      <th>7</th>\n",
       "      <td>27-JUN-24 09.05.37.000000000 AM</td>\n",
       "      <td>8a24dbc61bfc131ce97747b67a8cf95dc864b1da40a271...</td>\n",
       "      <td>99.00</td>\n",
       "      <td>202406</td>\n",
       "      <td>Automatic</td>\n",
       "    </tr>\n",
       "    <tr>\n",
       "      <th>8</th>\n",
       "      <td>04-JUN-24 08.01.56.000000000 AM</td>\n",
       "      <td>a8de7aea5bc9ad59ce83e55cae10964da3b11e93482292...</td>\n",
       "      <td>470.00</td>\n",
       "      <td>202406</td>\n",
       "      <td>Manual</td>\n",
       "    </tr>\n",
       "    <tr>\n",
       "      <th>9</th>\n",
       "      <td>04-JUN-24 07.55.36.000000000 PM</td>\n",
       "      <td>012b01b0a23e9edc57cc2b7632d0973ab6eaff6ad4e9e8...</td>\n",
       "      <td>1309.95</td>\n",
       "      <td>202406</td>\n",
       "      <td>Manual</td>\n",
       "    </tr>\n",
       "  </tbody>\n",
       "</table>\n",
       "</div>"
      ],
      "text/plain": [
       "                         date_time  \\\n",
       "0  27-JUN-24 07.16.36.000000000 AM   \n",
       "1  27-JUN-24 05.26.50.000000000 PM   \n",
       "2  27-JUN-24 06.45.40.000000000 PM   \n",
       "3  27-JUN-24 01.24.57.000000000 PM   \n",
       "4  27-JUN-24 01.31.44.000000000 PM   \n",
       "5  27-JUN-24 03.26.42.000000000 PM   \n",
       "6  27-JUN-24 01.20.04.000000000 PM   \n",
       "7  27-JUN-24 09.05.37.000000000 AM   \n",
       "8  04-JUN-24 08.01.56.000000000 AM   \n",
       "9  04-JUN-24 07.55.36.000000000 PM   \n",
       "\n",
       "                                         customer_id   amount  rep_month  \\\n",
       "0  683131338d401fda38410a808797b7706bc3e364d0fe77...   500.65     202406   \n",
       "1  56a41251185bd205961556399289804607ccc660392837...  2833.33     202406   \n",
       "2  000e57e83f161e4ba6458b3e32c00815405c5a005e652b...   143.98     202406   \n",
       "3  f3606d5ac9a89e0251a60d7183a09bc742eba2e36882af...  1000.00     202406   \n",
       "4  f3606d5ac9a89e0251a60d7183a09bc742eba2e36882af...   801.00     202406   \n",
       "5  ea3d553b28fefa3db6d878f7965bed756cadcc75eab9a4...     0.32     202406   \n",
       "6  9612a7e1860338e51c8c17b4c6277b6fcff6673b365b8a...  1400.00     202406   \n",
       "7  8a24dbc61bfc131ce97747b67a8cf95dc864b1da40a271...    99.00     202406   \n",
       "8  a8de7aea5bc9ad59ce83e55cae10964da3b11e93482292...   470.00     202406   \n",
       "9  012b01b0a23e9edc57cc2b7632d0973ab6eaff6ad4e9e8...  1309.95     202406   \n",
       "\n",
       "  repayment_type  \n",
       "0      Automatic  \n",
       "1      Automatic  \n",
       "2      Automatic  \n",
       "3      Automatic  \n",
       "4         Manual  \n",
       "5      Automatic  \n",
       "6      Automatic  \n",
       "7      Automatic  \n",
       "8         Manual  \n",
       "9         Manual  "
      ]
     },
     "execution_count": 68,
     "metadata": {},
     "output_type": "execute_result"
    }
   ],
   "source": [
    "import pandas as pd\n",
    "import numpy as np\n",
    "from datetime import datetime\n",
    "\n",
    "credable_disbursments_df = pd.read_csv(r\"C:\\Users\\jki\\Desktop\\Data Scence Projects\\Case Study Credebale  Loan Customer Data\\SQL  EDA\\Disbursments datasets.csv\")\n",
    "credable_disbursments_df.head(10)\n",
    "credable_repayments_df= pd.read_csv(r\"C:\\Users\\jki\\Desktop\\Data Scence Projects\\Case Study Credebale  Loan Customer Data\\SQL  EDA\\Repayments datasets.csv\")\n",
    "\n",
    "credable_repayments_df.head(10)"
   ]
  },
  {
   "cell_type": "markdown",
   "id": "fe2c2aac-a267-47f4-b6f6-f708ad6b2215",
   "metadata": {},
   "source": [
    "## Step 2 : Data Preprocessing: Disbursements dataset"
   ]
  },
  {
   "cell_type": "markdown",
   "id": "c22790f6-dc8d-4e92-85bf-bfb15e2b6310",
   "metadata": {},
   "source": [
    "Clean and preprocess the data, such as converting date columns to datetime objects and handling missing values."
   ]
  },
  {
   "cell_type": "code",
   "execution_count": 69,
   "id": "718cd367-700c-4dbd-b7ea-0e363fb3fd9c",
   "metadata": {},
   "outputs": [
    {
     "name": "stdout",
     "output_type": "stream",
     "text": [
      "<class 'pandas.core.frame.DataFrame'>\n",
      "RangeIndex: 1000 entries, 0 to 999\n",
      "Data columns (total 6 columns):\n",
      " #   Column       Non-Null Count  Dtype  \n",
      "---  ------       --------------  -----  \n",
      " 0   customer_id  1000 non-null   object \n",
      " 1   disb_date    1000 non-null   object \n",
      " 2   tenure       1000 non-null   object \n",
      " 3   account_num  1000 non-null   object \n",
      " 4   loan_amount  1000 non-null   int64  \n",
      " 5   loan_fee     1000 non-null   float64\n",
      "dtypes: float64(1), int64(1), object(4)\n",
      "memory usage: 47.0+ KB\n"
     ]
    }
   ],
   "source": [
    "credable_disbursments_df.info()"
   ]
  },
  {
   "cell_type": "code",
   "execution_count": 70,
   "id": "9e7f2ef3-24f2-4e08-a707-f2fe11038658",
   "metadata": {},
   "outputs": [
    {
     "name": "stdout",
     "output_type": "stream",
     "text": [
      "<class 'pandas.core.frame.DataFrame'>\n",
      "RangeIndex: 1000 entries, 0 to 999\n",
      "Data columns (total 6 columns):\n",
      " #   Column       Non-Null Count  Dtype         \n",
      "---  ------       --------------  -----         \n",
      " 0   customer_id  1000 non-null   object        \n",
      " 1   disb_date    1000 non-null   datetime64[ns]\n",
      " 2   tenure       1000 non-null   object        \n",
      " 3   account_num  1000 non-null   object        \n",
      " 4   loan_amount  1000 non-null   int64         \n",
      " 5   loan_fee     1000 non-null   float64       \n",
      "dtypes: datetime64[ns](1), float64(1), int64(1), object(3)\n",
      "memory usage: 47.0+ KB\n"
     ]
    }
   ],
   "source": [
    "# Convert date columns to datetime\n",
    "credable_disbursments_df['disb_date'] = pd.to_datetime(credable_disbursments_df['disb_date'])\n",
    "\n",
    "credable_disbursments_df.info()"
   ]
  },
  {
   "cell_type": "code",
   "execution_count": 71,
   "id": "67a35845-d888-470f-8dac-c64665d6e0b4",
   "metadata": {},
   "outputs": [
    {
     "name": "stdout",
     "output_type": "stream",
     "text": [
      "customer_id    0\n",
      "disb_date      0\n",
      "tenure         0\n",
      "account_num    0\n",
      "loan_amount    0\n",
      "loan_fee       0\n",
      "dtype: int64\n"
     ]
    }
   ],
   "source": [
    "print(credable_disbursments_df.isnull().sum())"
   ]
  },
  {
   "cell_type": "code",
   "execution_count": 72,
   "id": "27ec6525-2360-45ec-bef4-d69a2925188d",
   "metadata": {},
   "outputs": [],
   "source": [
    "# Save the DataFrame to a CSV file\n",
    "credable_disbursments_df.to_csv('credable_disbursments.csv', index=False)"
   ]
  },
  {
   "cell_type": "markdown",
   "id": "f3683023-f7fe-442b-90be-f3e42be06b10",
   "metadata": {},
   "source": [
    "## Step 3 : Data Preprocessing: Repayments dataset"
   ]
  },
  {
   "cell_type": "markdown",
   "id": "99e919ec-cc3d-4b08-b28a-d2fd5d5d715b",
   "metadata": {},
   "source": [
    "Clean and preprocess the data, such as converting date columns to datetime objects and handling missing values."
   ]
  },
  {
   "cell_type": "code",
   "execution_count": 73,
   "id": "515da34c-aded-4f52-afc5-1b7a1dd46c7b",
   "metadata": {},
   "outputs": [
    {
     "data": {
      "text/html": [
       "<div>\n",
       "<style scoped>\n",
       "    .dataframe tbody tr th:only-of-type {\n",
       "        vertical-align: middle;\n",
       "    }\n",
       "\n",
       "    .dataframe tbody tr th {\n",
       "        vertical-align: top;\n",
       "    }\n",
       "\n",
       "    .dataframe thead th {\n",
       "        text-align: right;\n",
       "    }\n",
       "</style>\n",
       "<table border=\"1\" class=\"dataframe\">\n",
       "  <thead>\n",
       "    <tr style=\"text-align: right;\">\n",
       "      <th></th>\n",
       "      <th>date_time</th>\n",
       "      <th>customer_id</th>\n",
       "      <th>amount</th>\n",
       "      <th>rep_month</th>\n",
       "      <th>repayment_type</th>\n",
       "    </tr>\n",
       "  </thead>\n",
       "  <tbody>\n",
       "    <tr>\n",
       "      <th>0</th>\n",
       "      <td>27-JUN-24 07.16.36.000000000 AM</td>\n",
       "      <td>683131338d401fda38410a808797b7706bc3e364d0fe77...</td>\n",
       "      <td>500.65</td>\n",
       "      <td>202406</td>\n",
       "      <td>Automatic</td>\n",
       "    </tr>\n",
       "    <tr>\n",
       "      <th>1</th>\n",
       "      <td>27-JUN-24 05.26.50.000000000 PM</td>\n",
       "      <td>56a41251185bd205961556399289804607ccc660392837...</td>\n",
       "      <td>2833.33</td>\n",
       "      <td>202406</td>\n",
       "      <td>Automatic</td>\n",
       "    </tr>\n",
       "    <tr>\n",
       "      <th>2</th>\n",
       "      <td>27-JUN-24 06.45.40.000000000 PM</td>\n",
       "      <td>000e57e83f161e4ba6458b3e32c00815405c5a005e652b...</td>\n",
       "      <td>143.98</td>\n",
       "      <td>202406</td>\n",
       "      <td>Automatic</td>\n",
       "    </tr>\n",
       "    <tr>\n",
       "      <th>3</th>\n",
       "      <td>27-JUN-24 01.24.57.000000000 PM</td>\n",
       "      <td>f3606d5ac9a89e0251a60d7183a09bc742eba2e36882af...</td>\n",
       "      <td>1000.00</td>\n",
       "      <td>202406</td>\n",
       "      <td>Automatic</td>\n",
       "    </tr>\n",
       "    <tr>\n",
       "      <th>4</th>\n",
       "      <td>27-JUN-24 01.31.44.000000000 PM</td>\n",
       "      <td>f3606d5ac9a89e0251a60d7183a09bc742eba2e36882af...</td>\n",
       "      <td>801.00</td>\n",
       "      <td>202406</td>\n",
       "      <td>Manual</td>\n",
       "    </tr>\n",
       "    <tr>\n",
       "      <th>5</th>\n",
       "      <td>27-JUN-24 03.26.42.000000000 PM</td>\n",
       "      <td>ea3d553b28fefa3db6d878f7965bed756cadcc75eab9a4...</td>\n",
       "      <td>0.32</td>\n",
       "      <td>202406</td>\n",
       "      <td>Automatic</td>\n",
       "    </tr>\n",
       "    <tr>\n",
       "      <th>6</th>\n",
       "      <td>27-JUN-24 01.20.04.000000000 PM</td>\n",
       "      <td>9612a7e1860338e51c8c17b4c6277b6fcff6673b365b8a...</td>\n",
       "      <td>1400.00</td>\n",
       "      <td>202406</td>\n",
       "      <td>Automatic</td>\n",
       "    </tr>\n",
       "    <tr>\n",
       "      <th>7</th>\n",
       "      <td>27-JUN-24 09.05.37.000000000 AM</td>\n",
       "      <td>8a24dbc61bfc131ce97747b67a8cf95dc864b1da40a271...</td>\n",
       "      <td>99.00</td>\n",
       "      <td>202406</td>\n",
       "      <td>Automatic</td>\n",
       "    </tr>\n",
       "    <tr>\n",
       "      <th>8</th>\n",
       "      <td>04-JUN-24 08.01.56.000000000 AM</td>\n",
       "      <td>a8de7aea5bc9ad59ce83e55cae10964da3b11e93482292...</td>\n",
       "      <td>470.00</td>\n",
       "      <td>202406</td>\n",
       "      <td>Manual</td>\n",
       "    </tr>\n",
       "    <tr>\n",
       "      <th>9</th>\n",
       "      <td>04-JUN-24 07.55.36.000000000 PM</td>\n",
       "      <td>012b01b0a23e9edc57cc2b7632d0973ab6eaff6ad4e9e8...</td>\n",
       "      <td>1309.95</td>\n",
       "      <td>202406</td>\n",
       "      <td>Manual</td>\n",
       "    </tr>\n",
       "  </tbody>\n",
       "</table>\n",
       "</div>"
      ],
      "text/plain": [
       "                         date_time  \\\n",
       "0  27-JUN-24 07.16.36.000000000 AM   \n",
       "1  27-JUN-24 05.26.50.000000000 PM   \n",
       "2  27-JUN-24 06.45.40.000000000 PM   \n",
       "3  27-JUN-24 01.24.57.000000000 PM   \n",
       "4  27-JUN-24 01.31.44.000000000 PM   \n",
       "5  27-JUN-24 03.26.42.000000000 PM   \n",
       "6  27-JUN-24 01.20.04.000000000 PM   \n",
       "7  27-JUN-24 09.05.37.000000000 AM   \n",
       "8  04-JUN-24 08.01.56.000000000 AM   \n",
       "9  04-JUN-24 07.55.36.000000000 PM   \n",
       "\n",
       "                                         customer_id   amount  rep_month  \\\n",
       "0  683131338d401fda38410a808797b7706bc3e364d0fe77...   500.65     202406   \n",
       "1  56a41251185bd205961556399289804607ccc660392837...  2833.33     202406   \n",
       "2  000e57e83f161e4ba6458b3e32c00815405c5a005e652b...   143.98     202406   \n",
       "3  f3606d5ac9a89e0251a60d7183a09bc742eba2e36882af...  1000.00     202406   \n",
       "4  f3606d5ac9a89e0251a60d7183a09bc742eba2e36882af...   801.00     202406   \n",
       "5  ea3d553b28fefa3db6d878f7965bed756cadcc75eab9a4...     0.32     202406   \n",
       "6  9612a7e1860338e51c8c17b4c6277b6fcff6673b365b8a...  1400.00     202406   \n",
       "7  8a24dbc61bfc131ce97747b67a8cf95dc864b1da40a271...    99.00     202406   \n",
       "8  a8de7aea5bc9ad59ce83e55cae10964da3b11e93482292...   470.00     202406   \n",
       "9  012b01b0a23e9edc57cc2b7632d0973ab6eaff6ad4e9e8...  1309.95     202406   \n",
       "\n",
       "  repayment_type  \n",
       "0      Automatic  \n",
       "1      Automatic  \n",
       "2      Automatic  \n",
       "3      Automatic  \n",
       "4         Manual  \n",
       "5      Automatic  \n",
       "6      Automatic  \n",
       "7      Automatic  \n",
       "8         Manual  \n",
       "9         Manual  "
      ]
     },
     "execution_count": 73,
     "metadata": {},
     "output_type": "execute_result"
    }
   ],
   "source": [
    "credable_repayments_df.head(10).head(10)"
   ]
  },
  {
   "cell_type": "code",
   "execution_count": 74,
   "id": "95512458-b2a3-421c-8792-2f648eadf435",
   "metadata": {},
   "outputs": [
    {
     "name": "stdout",
     "output_type": "stream",
     "text": [
      "<class 'pandas.core.frame.DataFrame'>\n",
      "RangeIndex: 1000 entries, 0 to 999\n",
      "Data columns (total 5 columns):\n",
      " #   Column          Non-Null Count  Dtype  \n",
      "---  ------          --------------  -----  \n",
      " 0   date_time       1000 non-null   object \n",
      " 1   customer_id     1000 non-null   object \n",
      " 2   amount          1000 non-null   float64\n",
      " 3   rep_month       1000 non-null   int64  \n",
      " 4   repayment_type  1000 non-null   object \n",
      "dtypes: float64(1), int64(1), object(3)\n",
      "memory usage: 39.2+ KB\n"
     ]
    }
   ],
   "source": [
    "credable_repayments_df.info()"
   ]
  },
  {
   "cell_type": "code",
   "execution_count": 75,
   "id": "f9178246-18c7-440b-b189-16a1cbeff56a",
   "metadata": {},
   "outputs": [],
   "source": [
    "# Convert date columns to datetime\n",
    "credable_repayments_df['date_time'] = pd.to_datetime(\n",
    "    credable_repayments_df['date_time'], \n",
    "    format='%d-%b-%y %I.%M.%S.%f %p', \n",
    "    errors='coerce'\n",
    ")"
   ]
  },
  {
   "cell_type": "code",
   "execution_count": 76,
   "id": "6656a7a6-9d3e-4fe2-9585-3e04bc697427",
   "metadata": {},
   "outputs": [
    {
     "name": "stdout",
     "output_type": "stream",
     "text": [
      "<class 'pandas.core.frame.DataFrame'>\n",
      "RangeIndex: 1000 entries, 0 to 999\n",
      "Data columns (total 5 columns):\n",
      " #   Column          Non-Null Count  Dtype         \n",
      "---  ------          --------------  -----         \n",
      " 0   date_time       1000 non-null   datetime64[ns]\n",
      " 1   customer_id     1000 non-null   object        \n",
      " 2   amount          1000 non-null   float64       \n",
      " 3   rep_month       1000 non-null   int64         \n",
      " 4   repayment_type  1000 non-null   object        \n",
      "dtypes: datetime64[ns](1), float64(1), int64(1), object(2)\n",
      "memory usage: 39.2+ KB\n"
     ]
    }
   ],
   "source": [
    "credable_repayments_df.info()"
   ]
  },
  {
   "cell_type": "code",
   "execution_count": 77,
   "id": "a9ef009f-e032-452f-8419-a0f2763522ee",
   "metadata": {},
   "outputs": [],
   "source": [
    "# Save the DataFrame to a CSV file\n",
    "credable_repayments_df.to_csv('credable_repayments.csv', index=False)"
   ]
  },
  {
   "cell_type": "markdown",
   "id": "e7dac59f-ca5b-42a0-be5b-56161a3fa7e2",
   "metadata": {},
   "source": [
    "## Step 4 : Forecasting  Loan Disbursments"
   ]
  },
  {
   "cell_type": "code",
   "execution_count": 78,
   "id": "c7658ccf-5ac4-46be-8e13-b12f426cf3aa",
   "metadata": {},
   "outputs": [
    {
     "name": "stdout",
     "output_type": "stream",
     "text": [
      "<class 'pandas.core.frame.DataFrame'>\n",
      "RangeIndex: 1000 entries, 0 to 999\n",
      "Data columns (total 6 columns):\n",
      " #   Column       Non-Null Count  Dtype         \n",
      "---  ------       --------------  -----         \n",
      " 0   customer_id  1000 non-null   object        \n",
      " 1   disb_date    1000 non-null   datetime64[ns]\n",
      " 2   tenure       1000 non-null   object        \n",
      " 3   account_num  1000 non-null   object        \n",
      " 4   loan_amount  1000 non-null   int64         \n",
      " 5   loan_fee     1000 non-null   float64       \n",
      "dtypes: datetime64[ns](1), float64(1), int64(1), object(3)\n",
      "memory usage: 47.0+ KB\n"
     ]
    }
   ],
   "source": [
    "credable_disbursments_df.info()"
   ]
  },
  {
   "cell_type": "markdown",
   "id": "1999fb78-2337-47e7-8a66-7b6cf10ebd59",
   "metadata": {},
   "source": [
    "## Step 5 : Forecasting Profit / Losss "
   ]
  },
  {
   "cell_type": "code",
   "execution_count": 99,
   "id": "e04f8b27-cbd1-4be6-9829-0d5b94c3dad9",
   "metadata": {},
   "outputs": [
    {
     "name": "stdout",
     "output_type": "stream",
     "text": [
      "<class 'pandas.core.frame.DataFrame'>\n",
      "RangeIndex: 26542 entries, 0 to 26541\n",
      "Data columns (total 7 columns):\n",
      " #   Column            Non-Null Count  Dtype  \n",
      "---  ------            --------------  -----  \n",
      " 0   customer_id       26542 non-null  object \n",
      " 1   date              26542 non-null  object \n",
      " 2   account_num       26542 non-null  object \n",
      " 3   loan_amount       26542 non-null  int64  \n",
      " 4   loan_fee          26542 non-null  float64\n",
      " 5   total_repayments  26542 non-null  float64\n",
      " 6   profit            26542 non-null  float64\n",
      "dtypes: float64(3), int64(1), object(3)\n",
      "memory usage: 1.4+ MB\n"
     ]
    }
   ],
   "source": [
    "profit_loss_df = pd.read_csv(r\"C:\\Users\\jki\\Desktop\\Data Scence Projects\\Case Study Credebale  Loan Customer Data\\Python EDA\\Profit-Loss Forecast.csv\")\n",
    "profit_loss_df.info()"
   ]
  },
  {
   "cell_type": "code",
   "execution_count": 100,
   "id": "446678a9-19db-4f58-b719-d720cabbe9af",
   "metadata": {},
   "outputs": [
    {
     "name": "stdout",
     "output_type": "stream",
     "text": [
      "      date   profit\n",
      "0  00:00.0  28125.0\n",
      "1  00:00.0  27950.0\n",
      "2  00:00.0  28125.0\n",
      "3  00:00.0  27950.0\n",
      "4  00:00.0  28125.0\n"
     ]
    }
   ],
   "source": [
    "# Drop the specified columns\n",
    "profit_loss_df = profit_loss_df.drop(columns=['customer_id', 'account_num', 'loan_amount', 'loan_fee', 'total_repayments'])\n",
    "\n",
    "# Display the updated DataFrame\n",
    "print(profit_loss_df.head())"
   ]
  },
  {
   "cell_type": "code",
   "execution_count": 101,
   "id": "434a4bf6-e58d-4d85-8b97-4971fbbf5059",
   "metadata": {},
   "outputs": [
    {
     "name": "stdout",
     "output_type": "stream",
     "text": [
      "<class 'pandas.core.frame.DataFrame'>\n",
      "RangeIndex: 26542 entries, 0 to 26541\n",
      "Data columns (total 2 columns):\n",
      " #   Column  Non-Null Count  Dtype         \n",
      "---  ------  --------------  -----         \n",
      " 0   date    26542 non-null  datetime64[ns]\n",
      " 1   profit  26542 non-null  float64       \n",
      "dtypes: datetime64[ns](1), float64(1)\n",
      "memory usage: 414.8 KB\n"
     ]
    }
   ],
   "source": [
    "# Convert date columns to datetime\n",
    "profit_loss_df['date'] = pd.to_datetime(profit_loss_df['date'])\n",
    "profit_loss_df.info()"
   ]
  },
  {
   "cell_type": "code",
   "execution_count": 102,
   "id": "f2744b9e-eec6-4af5-adac-4cc636923215",
   "metadata": {},
   "outputs": [
    {
     "data": {
      "text/html": [
       "<div>\n",
       "<style scoped>\n",
       "    .dataframe tbody tr th:only-of-type {\n",
       "        vertical-align: middle;\n",
       "    }\n",
       "\n",
       "    .dataframe tbody tr th {\n",
       "        vertical-align: top;\n",
       "    }\n",
       "\n",
       "    .dataframe thead th {\n",
       "        text-align: right;\n",
       "    }\n",
       "</style>\n",
       "<table border=\"1\" class=\"dataframe\">\n",
       "  <thead>\n",
       "    <tr style=\"text-align: right;\">\n",
       "      <th></th>\n",
       "      <th>date</th>\n",
       "      <th>profit</th>\n",
       "    </tr>\n",
       "  </thead>\n",
       "  <tbody>\n",
       "    <tr>\n",
       "      <th>0</th>\n",
       "      <td>2025-03-20</td>\n",
       "      <td>28125.0</td>\n",
       "    </tr>\n",
       "    <tr>\n",
       "      <th>1</th>\n",
       "      <td>2025-03-20</td>\n",
       "      <td>27950.0</td>\n",
       "    </tr>\n",
       "    <tr>\n",
       "      <th>2</th>\n",
       "      <td>2025-03-20</td>\n",
       "      <td>28125.0</td>\n",
       "    </tr>\n",
       "    <tr>\n",
       "      <th>3</th>\n",
       "      <td>2025-03-20</td>\n",
       "      <td>27950.0</td>\n",
       "    </tr>\n",
       "    <tr>\n",
       "      <th>4</th>\n",
       "      <td>2025-03-20</td>\n",
       "      <td>28125.0</td>\n",
       "    </tr>\n",
       "  </tbody>\n",
       "</table>\n",
       "</div>"
      ],
      "text/plain": [
       "        date   profit\n",
       "0 2025-03-20  28125.0\n",
       "1 2025-03-20  27950.0\n",
       "2 2025-03-20  28125.0\n",
       "3 2025-03-20  27950.0\n",
       "4 2025-03-20  28125.0"
      ]
     },
     "execution_count": 102,
     "metadata": {},
     "output_type": "execute_result"
    }
   ],
   "source": [
    "profit_loss_df.head(5)"
   ]
  },
  {
   "cell_type": "code",
   "execution_count": 103,
   "id": "cf4fdf6e-21ba-40f4-bd87-e05f6c970e48",
   "metadata": {},
   "outputs": [
    {
     "name": "stdout",
     "output_type": "stream",
     "text": [
      "Index(['date', 'profit'], dtype='object')\n",
      "Forecasted data saved to 'forecasted_profit.csv'\n"
     ]
    },
    {
     "name": "stderr",
     "output_type": "stream",
     "text": [
      "C:\\Users\\jki\\AppData\\Local\\Temp\\ipykernel_2792\\3243191419.py:25: FutureWarning: Series.__getitem__ treating keys as positions is deprecated. In a future version, integer keys will always be treated as labels (consistent with DataFrame behavior). To access a value by position, use `ser.iloc[pos]`\n",
      "  forecast = pd.Series([moving_avg[-1]] * 3, index=forecast_dates)\n"
     ]
    }
   ],
   "source": [
    "import pandas as pd\n",
    "import matplotlib.pyplot as plt\n",
    "from datetime import timedelta\n",
    "\n",
    "# Assuming profit_loss_df is already defined and contains the necessary data\n",
    "# Check the column names\n",
    "print(profit_loss_df.columns)\n",
    "\n",
    "# If 'disb_date' is not present, check for similar columns and rename if necessary\n",
    "# Example:\n",
    "# profit_loss_df.rename(columns={'actual_column_name': 'disb_date'}, inplace=True)\n",
    "\n",
    "# Convert 'disb_date' to datetime\n",
    "profit_loss_df['date'] = pd.to_datetime(profit_loss_df['date'])\n",
    "\n",
    "# Set 'disb_date' as the index\n",
    "profit_loss_df.set_index('date', inplace=True)\n",
    "\n",
    "# Calculate the moving average for forecasting\n",
    "moving_avg = profit_loss_df['profit'].rolling(window=3).mean()\n",
    "\n",
    "# Generate forecast for the next 3 months\n",
    "last_date = profit_loss_df.index[-1]\n",
    "forecast_dates = [last_date + timedelta(days=30*i) for i in range(1, 4)]\n",
    "forecast = pd.Series([moving_avg[-1]] * 3, index=forecast_dates)\n",
    "\n",
    "# Combine actual and forecasted data\n",
    "forecasted_df = pd.concat([profit_loss_df['profit'], forecast])\n",
    "\n",
    "# Convert the forecasted data to a DataFrame\n",
    "forecasted_df = forecasted_df.reset_index()\n",
    "forecasted_df.columns = ['date', 'profit']\n",
    "\n",
    "# Save the forecasted data to a CSV file\n",
    "forecasted_df.to_csv('forecasted_profit.csv', index=False)\n",
    "\n",
    "print(\"Forecasted data saved to 'forecasted_profit.csv'\")\n",
    "\n",
    "\n"
   ]
  },
  {
   "cell_type": "code",
   "execution_count": null,
   "id": "81144eee-81f4-4691-b570-76333217fbd0",
   "metadata": {},
   "outputs": [],
   "source": []
  }
 ],
 "metadata": {
  "kernelspec": {
   "display_name": "Python 3 (ipykernel)",
   "language": "python",
   "name": "python3"
  },
  "language_info": {
   "codemirror_mode": {
    "name": "ipython",
    "version": 3
   },
   "file_extension": ".py",
   "mimetype": "text/x-python",
   "name": "python",
   "nbconvert_exporter": "python",
   "pygments_lexer": "ipython3",
   "version": "3.11.7"
  }
 },
 "nbformat": 4,
 "nbformat_minor": 5
}
